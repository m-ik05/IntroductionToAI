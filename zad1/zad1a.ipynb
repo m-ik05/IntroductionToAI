{
  "cells": [
    {
      "cell_type": "markdown",
      "metadata": {
        "id": "88lxDms-saqt"
      },
      "source": [
        "#Zadanie 1a (3 pkt)\n",
        "Celem zadania jest rozwiązanie problemu plecakowego dwoma metodami - brute force oraz według zadanej heurystyki. Należy zaimplementować metody klasy *KnapSack* - *solve_knapsack_brute_force* oraz *solve_knapsack_pw_ratio*. Poprzez rozwiązanie problemu rozumiemy podanie które przedmioty (indeksy w tablicy) należy spakować do plecaka oraz jaka jest sumaryczna wartość i masa plecaka. Punktacja wygląda następująco:\n",
        "\n",
        "\n",
        "*   Rozwiązanie problemu metodą brute force. *Podpowiedź: do wygenerowania wszystkich permutacji można użyć funkcji product z biblioteki itertools* - **1.5 pkt**\n",
        "*   Rozwiązanie problemu według heurystyki - do plecaka pakujemy przedmioty według stosunku wartości do wagi - **1 pkt**\n",
        "*   Dla metody brute force proszę wygenerować wykres zależności czasu wykonywania metody od liczby elementów w tablicach *weights* i *profits* (do obu tablic należy stopniowo dopisywać po jednym elemencie, np. 10-krotnie, wartości elementów nie mają znaczenia). Proszę również odpowiedzieć na pytania (w osobnej komórce tekstowej) - czy obie metody mają takie same rozwiązania? Jakie są Pani / Pana wnioski? - **0.5 pkt**\n",
        "\n",
        "\n"
      ]
    },
    {
      "cell_type": "code",
      "execution_count": 45,
      "metadata": {
        "id": "1X0PiYKZ2w63"
      },
      "outputs": [],
      "source": [
        "import itertools as it\n",
        "import operator as op\n",
        "import matplotlib.pyplot as plt\n",
        "import time"
      ]
    },
    {
      "cell_type": "code",
      "execution_count": 46,
      "metadata": {
        "id": "_IOCNGpCuy8s"
      },
      "outputs": [],
      "source": [
        "weights = [8, 3, 5, 2]\n",
        "profits = [16, 8, 9, 6]\n",
        "capacity = 9"
      ]
    },
    {
      "cell_type": "code",
      "execution_count": 47,
      "metadata": {
        "id": "s5J82x9WuSOh"
      },
      "outputs": [],
      "source": [
        "class KnapSack:\n",
        "  def __init__(self, profits, weights, capacity):\n",
        "    self.profits = profits\n",
        "    self.weights = weights\n",
        "    self.capacity = capacity\n",
        "\n",
        "  def solve_knapsack_brute_force(self):\n",
        "    best_cap = 0\n",
        "    best_price = 0\n",
        "    best_index = []\n",
        "    ran = len(self.weights)\n",
        "    cartesian = [item for item in it.product(range(2), repeat=ran)]\n",
        "\n",
        "    for i in range(len(cartesian)):\n",
        "      temp_index = []\n",
        "      temp_profit = 0\n",
        "      temp_weight = 0\n",
        "      for j in range(ran):\n",
        "        temp_weight += (cartesian[i][j]*self.weights[j])\n",
        "        temp_profit += (cartesian[i][j]*self.profits[j])\n",
        "        temp_index.append(0)\n",
        "      if(temp_weight>self.capacity):\n",
        "        continue\n",
        "      if(temp_profit>best_price):\n",
        "        best_price = temp_profit\n",
        "        best_cap = temp_weight\n",
        "        best_index = list(cartesian[i])\n",
        "\n",
        "    if(len(self.weights) != 0):\n",
        "      print(f\"Best possible profit by using brute force method: {best_price}\")\n",
        "      print(f\"Best possible weight by using brute force method: {best_cap}\")\n",
        "      print(f\"Items needed to be taken according to brute force method: {best_index}\")\n",
        "    else:\n",
        "      print(\"There are no items in knapsack! (brute force)\")\n",
        "\n",
        "  def plot_graph(self):\n",
        "    times = []\n",
        "    elements = []\n",
        "    for i in range(len(self.weights), 10+len(self.weights)):\n",
        "      weights.append(1)\n",
        "      profits.append(1)\n",
        "\n",
        "      start = time.time()\n",
        "      self.solve_knapsack_brute_force()\n",
        "      end = time.time()\n",
        "\n",
        "      elapsed = end - start\n",
        "      elements.append(i+1)\n",
        "      times.append(elapsed)\n",
        "    \n",
        "    plt.plot(elements, times)\n",
        "    plt.xlabel('Number of elements in profits and weights')\n",
        "    plt.ylabel('Time in seconds')\n",
        "    plt.show()\n",
        "\n",
        "  def solve_knapsack_pw_ratio(self):\n",
        "    ratio = []\n",
        "    data = []\n",
        "    heu_index = []\n",
        "    heu_profit = 0\n",
        "    heu_weight = 0\n",
        "    ran = len(self.weights)\n",
        "\n",
        "    if(len(self.weights) != 0):\n",
        "      for i in range (ran):\n",
        "        ratio.append(self.profits[i]/self.weights[i])\n",
        "        data.append(0)\n",
        "        data[i] = (self.profits[i], self.weights[i], ratio[i], i)\n",
        "        heu_index.append(0)\n",
        "      data.sort(reverse=True, key=op.itemgetter(2))\n",
        "\n",
        "      i=0\n",
        "      while(heu_profit <= capacity):\n",
        "        heu_profit += data[i][0]\n",
        "        heu_weight += data[i][1]\n",
        "        heu_index[data[i][3]] = 1\n",
        "        i+=1\n",
        "      print(f\"Best possible profit by using heuristic method: {heu_profit}\")\n",
        "      print(f\"Best possible weight by usingheuristic method: {heu_weight}\")\n",
        "      print(f\"Items needed to be taken according to heuristic method: {heu_index}\")\n",
        "    else:\n",
        "      print(\"There are no items in knapsack! (heuristic)\")"
      ]
    },
    {
      "cell_type": "code",
      "execution_count": 48,
      "metadata": {},
      "outputs": [
        {
          "name": "stdout",
          "output_type": "stream",
          "text": [
            "Best possible profit by using brute force method: 17\n",
            "Best possible weight by using brute force method: 8\n",
            "Items needed to be taken according to brute force method: [0, 1, 1, 0]\n",
            "\n",
            "Best possible profit by using heuristic method: 14\n",
            "Best possible weight by usingheuristic method: 5\n",
            "Items needed to be taken according to heuristic method: [0, 1, 0, 1]\n",
            "\n",
            "Best possible profit by using brute force method: 18\n",
            "Best possible weight by using brute force method: 9\n",
            "Items needed to be taken according to brute force method: [0, 1, 1, 0, 1]\n",
            "Best possible profit by using brute force method: 18\n",
            "Best possible weight by using brute force method: 9\n",
            "Items needed to be taken according to brute force method: [0, 1, 1, 0, 0, 1]\n",
            "Best possible profit by using brute force method: 18\n",
            "Best possible weight by using brute force method: 9\n",
            "Items needed to be taken according to brute force method: [0, 1, 1, 0, 0, 0, 1]\n",
            "Best possible profit by using brute force method: 18\n",
            "Best possible weight by using brute force method: 9\n",
            "Items needed to be taken according to brute force method: [0, 1, 0, 1, 1, 1, 1, 1]\n",
            "Best possible profit by using brute force method: 18\n",
            "Best possible weight by using brute force method: 9\n",
            "Items needed to be taken according to brute force method: [0, 1, 0, 1, 0, 1, 1, 1, 1]\n",
            "Best possible profit by using brute force method: 18\n",
            "Best possible weight by using brute force method: 9\n",
            "Items needed to be taken according to brute force method: [0, 1, 0, 1, 0, 0, 1, 1, 1, 1]\n",
            "Best possible profit by using brute force method: 18\n",
            "Best possible weight by using brute force method: 9\n",
            "Items needed to be taken according to brute force method: [0, 1, 0, 1, 0, 0, 0, 1, 1, 1, 1]\n",
            "Best possible profit by using brute force method: 18\n",
            "Best possible weight by using brute force method: 9\n",
            "Items needed to be taken according to brute force method: [0, 1, 0, 1, 0, 0, 0, 0, 1, 1, 1, 1]\n",
            "Best possible profit by using brute force method: 18\n",
            "Best possible weight by using brute force method: 9\n",
            "Items needed to be taken according to brute force method: [0, 1, 0, 1, 0, 0, 0, 0, 0, 1, 1, 1, 1]\n",
            "Best possible profit by using brute force method: 18\n",
            "Best possible weight by using brute force method: 9\n",
            "Items needed to be taken according to brute force method: [0, 1, 0, 1, 0, 0, 0, 0, 0, 0, 1, 1, 1, 1]\n"
          ]
        },
        {
          "data": {
            "image/png": "[encoded data removed]",
            "text/plain": [
              "<Figure size 640x480 with 1 Axes>"
            ]
          },
          "metadata": {},
          "output_type": "display_data"
        }
      ],
      "source": [
        "knapsack = KnapSack(profits, weights, capacity)\n",
        "knapsack.solve_knapsack_brute_force()\n",
        "print()\n",
        "knapsack.solve_knapsack_pw_ratio()\n",
        "print()\n",
        "knapsack.plot_graph()"
      ]
    },
    {
      "cell_type": "markdown",
      "metadata": {},
      "source": [
        "Metoda brute force i metoda heurystyczna zwykle zwracają różne wyniki. Ta pierwsza zawsze zwróci najlepszy sposób zapełnienia plecaka, ceną co raz dłużyszch obliczeń, które się wykładniczo wydłużają wraz z ilością przedmiotów. Metoda heurystyczna zwraca tylko przybliżony wynik. Nie jest on najlepszy, ale jest on otrzymany o wiele szybciej niż z pomocą metody brute force, szczególnie z większą ilością przedmiotów."
      ]
    }
  ],
  "metadata": {
    "accelerator": "GPU",
    "colab": {
      "provenance": []
    },
    "kernelspec": {
      "display_name": ".venv",
      "language": "python",
      "name": "python3"
    },
    "language_info": {
      "codemirror_mode": {
        "name": "ipython",
        "version": 3
      },
      "file_extension": ".py",
      "mimetype": "text/x-python",
      "name": "python",
      "nbconvert_exporter": "python",
      "pygments_lexer": "ipython3",
      "version": "3.13.0"
    },
    "nteract": {
      "version": "nteract-front-end@1.0.0"
    }
  },
  "nbformat": 4,
  "nbformat_minor": 0
}
